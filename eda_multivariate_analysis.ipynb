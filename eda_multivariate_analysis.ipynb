{
  "nbformat": 4,
  "nbformat_minor": 0,
  "metadata": {
    "colab": {
      "provenance": []
    },
    "kernelspec": {
      "name": "python3",
      "display_name": "Python 3"
    },
    "language_info": {
      "name": "python"
    }
  },
  "cells": [
    {
      "cell_type": "code",
      "execution_count": 1,
      "metadata": {
        "id": "JxVWU-haMHrn"
      },
      "outputs": [],
      "source": [
        "import pandas as pd\n",
        "import numpy as np\n",
        "import matplotlib.pyplot as plt\n",
        "import seaborn as sns"
      ]
    },
    {
      "cell_type": "code",
      "source": [
        "pd.set_option('display.max_columns', None)"
      ],
      "metadata": {
        "id": "9E_XsrqcMVaj"
      },
      "execution_count": 2,
      "outputs": []
    },
    {
      "cell_type": "code",
      "source": [
        "df = pd.read_csv('/content/drive/MyDrive/A/gurgaon_properties_cleaned_v2.csv')"
      ],
      "metadata": {
        "id": "A8lfJXS5MoaP"
      },
      "execution_count": 3,
      "outputs": []
    },
    {
      "cell_type": "code",
      "source": [
        "df.head()"
      ],
      "metadata": {
        "colab": {
          "base_uri": "https://localhost:8080/",
          "height": 521
        },
        "id": "wKPQDf0uM1oD",
        "outputId": "3da7fb77-4467-49b1-9868-077a22d58fab"
      },
      "execution_count": 4,
      "outputs": [
        {
          "output_type": "execute_result",
          "data": {
            "text/plain": [
              "  property_type                      society      sector  price  \\\n",
              "0          flat      signature global park 4   sector 36   0.82   \n",
              "1          flat             smart world gems   sector 89   0.95   \n",
              "2          flat                pyramid elite   sector 86   0.46   \n",
              "3          flat       breez global hill view  sohna road   0.32   \n",
              "4          flat  bestech park view sanskruti   sector 92   1.60   \n",
              "\n",
              "   price_per_sqft     area                                       areaWithType  \\\n",
              "0          7585.0   1081.0  Super Built up area 1081(100.43 sq.m.)Carpet a...   \n",
              "1          8600.0   1105.0                   Carpet area: 1103 (102.47 sq.m.)   \n",
              "2            79.0  58228.0                 Carpet area: 58141 (5401.48 sq.m.)   \n",
              "3          5470.0    585.0  Built Up area: 1000 (92.9 sq.m.)Carpet area: 5...   \n",
              "4          8020.0   1995.0  Super Built up area 1995(185.34 sq.m.)Built Up...   \n",
              "\n",
              "   bedRoom  bathroom balcony  floorNum      facing       agePossession  \\\n",
              "0        3         2       2       2.0         NaN        New Property   \n",
              "1        2         2       2       4.0         NaN        New Property   \n",
              "2        2         2       1       0.0         NaN  Under Construction   \n",
              "3        2         2       1      17.0         NaN        New Property   \n",
              "4        3         4      3+      10.0  North-West      Relatively New   \n",
              "\n",
              "   super_built_up_area  built_up_area  carpet_area  study room  servant room  \\\n",
              "0               1081.0            NaN        650.0           0             0   \n",
              "1                  NaN            NaN       1103.0           1             1   \n",
              "2                  NaN            NaN      58141.0           0             0   \n",
              "3                  NaN         1000.0        585.0           0             0   \n",
              "4               1995.0         1615.0       1476.0           0             1   \n",
              "\n",
              "   store room  pooja room  others  furnishing_type  luxury_score  \n",
              "0           0           0       0                0             8  \n",
              "1           0           0       0                0            38  \n",
              "2           0           0       0                0            15  \n",
              "3           0           0       0                0            49  \n",
              "4           0           0       1                1           174  "
            ],
            "text/html": [
              "\n",
              "  <div id=\"df-a56a2319-33f8-495f-abda-479a8092ffab\" class=\"colab-df-container\">\n",
              "    <div>\n",
              "<style scoped>\n",
              "    .dataframe tbody tr th:only-of-type {\n",
              "        vertical-align: middle;\n",
              "    }\n",
              "\n",
              "    .dataframe tbody tr th {\n",
              "        vertical-align: top;\n",
              "    }\n",
              "\n",
              "    .dataframe thead th {\n",
              "        text-align: right;\n",
              "    }\n",
              "</style>\n",
              "<table border=\"1\" class=\"dataframe\">\n",
              "  <thead>\n",
              "    <tr style=\"text-align: right;\">\n",
              "      <th></th>\n",
              "      <th>property_type</th>\n",
              "      <th>society</th>\n",
              "      <th>sector</th>\n",
              "      <th>price</th>\n",
              "      <th>price_per_sqft</th>\n",
              "      <th>area</th>\n",
              "      <th>areaWithType</th>\n",
              "      <th>bedRoom</th>\n",
              "      <th>bathroom</th>\n",
              "      <th>balcony</th>\n",
              "      <th>floorNum</th>\n",
              "      <th>facing</th>\n",
              "      <th>agePossession</th>\n",
              "      <th>super_built_up_area</th>\n",
              "      <th>built_up_area</th>\n",
              "      <th>carpet_area</th>\n",
              "      <th>study room</th>\n",
              "      <th>servant room</th>\n",
              "      <th>store room</th>\n",
              "      <th>pooja room</th>\n",
              "      <th>others</th>\n",
              "      <th>furnishing_type</th>\n",
              "      <th>luxury_score</th>\n",
              "    </tr>\n",
              "  </thead>\n",
              "  <tbody>\n",
              "    <tr>\n",
              "      <th>0</th>\n",
              "      <td>flat</td>\n",
              "      <td>signature global park 4</td>\n",
              "      <td>sector 36</td>\n",
              "      <td>0.82</td>\n",
              "      <td>7585.0</td>\n",
              "      <td>1081.0</td>\n",
              "      <td>Super Built up area 1081(100.43 sq.m.)Carpet a...</td>\n",
              "      <td>3</td>\n",
              "      <td>2</td>\n",
              "      <td>2</td>\n",
              "      <td>2.0</td>\n",
              "      <td>NaN</td>\n",
              "      <td>New Property</td>\n",
              "      <td>1081.0</td>\n",
              "      <td>NaN</td>\n",
              "      <td>650.0</td>\n",
              "      <td>0</td>\n",
              "      <td>0</td>\n",
              "      <td>0</td>\n",
              "      <td>0</td>\n",
              "      <td>0</td>\n",
              "      <td>0</td>\n",
              "      <td>8</td>\n",
              "    </tr>\n",
              "    <tr>\n",
              "      <th>1</th>\n",
              "      <td>flat</td>\n",
              "      <td>smart world gems</td>\n",
              "      <td>sector 89</td>\n",
              "      <td>0.95</td>\n",
              "      <td>8600.0</td>\n",
              "      <td>1105.0</td>\n",
              "      <td>Carpet area: 1103 (102.47 sq.m.)</td>\n",
              "      <td>2</td>\n",
              "      <td>2</td>\n",
              "      <td>2</td>\n",
              "      <td>4.0</td>\n",
              "      <td>NaN</td>\n",
              "      <td>New Property</td>\n",
              "      <td>NaN</td>\n",
              "      <td>NaN</td>\n",
              "      <td>1103.0</td>\n",
              "      <td>1</td>\n",
              "      <td>1</td>\n",
              "      <td>0</td>\n",
              "      <td>0</td>\n",
              "      <td>0</td>\n",
              "      <td>0</td>\n",
              "      <td>38</td>\n",
              "    </tr>\n",
              "    <tr>\n",
              "      <th>2</th>\n",
              "      <td>flat</td>\n",
              "      <td>pyramid elite</td>\n",
              "      <td>sector 86</td>\n",
              "      <td>0.46</td>\n",
              "      <td>79.0</td>\n",
              "      <td>58228.0</td>\n",
              "      <td>Carpet area: 58141 (5401.48 sq.m.)</td>\n",
              "      <td>2</td>\n",
              "      <td>2</td>\n",
              "      <td>1</td>\n",
              "      <td>0.0</td>\n",
              "      <td>NaN</td>\n",
              "      <td>Under Construction</td>\n",
              "      <td>NaN</td>\n",
              "      <td>NaN</td>\n",
              "      <td>58141.0</td>\n",
              "      <td>0</td>\n",
              "      <td>0</td>\n",
              "      <td>0</td>\n",
              "      <td>0</td>\n",
              "      <td>0</td>\n",
              "      <td>0</td>\n",
              "      <td>15</td>\n",
              "    </tr>\n",
              "    <tr>\n",
              "      <th>3</th>\n",
              "      <td>flat</td>\n",
              "      <td>breez global hill view</td>\n",
              "      <td>sohna road</td>\n",
              "      <td>0.32</td>\n",
              "      <td>5470.0</td>\n",
              "      <td>585.0</td>\n",
              "      <td>Built Up area: 1000 (92.9 sq.m.)Carpet area: 5...</td>\n",
              "      <td>2</td>\n",
              "      <td>2</td>\n",
              "      <td>1</td>\n",
              "      <td>17.0</td>\n",
              "      <td>NaN</td>\n",
              "      <td>New Property</td>\n",
              "      <td>NaN</td>\n",
              "      <td>1000.0</td>\n",
              "      <td>585.0</td>\n",
              "      <td>0</td>\n",
              "      <td>0</td>\n",
              "      <td>0</td>\n",
              "      <td>0</td>\n",
              "      <td>0</td>\n",
              "      <td>0</td>\n",
              "      <td>49</td>\n",
              "    </tr>\n",
              "    <tr>\n",
              "      <th>4</th>\n",
              "      <td>flat</td>\n",
              "      <td>bestech park view sanskruti</td>\n",
              "      <td>sector 92</td>\n",
              "      <td>1.60</td>\n",
              "      <td>8020.0</td>\n",
              "      <td>1995.0</td>\n",
              "      <td>Super Built up area 1995(185.34 sq.m.)Built Up...</td>\n",
              "      <td>3</td>\n",
              "      <td>4</td>\n",
              "      <td>3+</td>\n",
              "      <td>10.0</td>\n",
              "      <td>North-West</td>\n",
              "      <td>Relatively New</td>\n",
              "      <td>1995.0</td>\n",
              "      <td>1615.0</td>\n",
              "      <td>1476.0</td>\n",
              "      <td>0</td>\n",
              "      <td>1</td>\n",
              "      <td>0</td>\n",
              "      <td>0</td>\n",
              "      <td>1</td>\n",
              "      <td>1</td>\n",
              "      <td>174</td>\n",
              "    </tr>\n",
              "  </tbody>\n",
              "</table>\n",
              "</div>\n",
              "    <div class=\"colab-df-buttons\">\n",
              "\n",
              "  <div class=\"colab-df-container\">\n",
              "    <button class=\"colab-df-convert\" onclick=\"convertToInteractive('df-a56a2319-33f8-495f-abda-479a8092ffab')\"\n",
              "            title=\"Convert this dataframe to an interactive table.\"\n",
              "            style=\"display:none;\">\n",
              "\n",
              "  <svg xmlns=\"http://www.w3.org/2000/svg\" height=\"24px\" viewBox=\"0 -960 960 960\">\n",
              "    <path d=\"M120-120v-720h720v720H120Zm60-500h600v-160H180v160Zm220 220h160v-160H400v160Zm0 220h160v-160H400v160ZM180-400h160v-160H180v160Zm440 0h160v-160H620v160ZM180-180h160v-160H180v160Zm440 0h160v-160H620v160Z\"/>\n",
              "  </svg>\n",
              "    </button>\n",
              "\n",
              "  <style>\n",
              "    .colab-df-container {\n",
              "      display:flex;\n",
              "      gap: 12px;\n",
              "    }\n",
              "\n",
              "    .colab-df-convert {\n",
              "      background-color: #E8F0FE;\n",
              "      border: none;\n",
              "      border-radius: 50%;\n",
              "      cursor: pointer;\n",
              "      display: none;\n",
              "      fill: #1967D2;\n",
              "      height: 32px;\n",
              "      padding: 0 0 0 0;\n",
              "      width: 32px;\n",
              "    }\n",
              "\n",
              "    .colab-df-convert:hover {\n",
              "      background-color: #E2EBFA;\n",
              "      box-shadow: 0px 1px 2px rgba(60, 64, 67, 0.3), 0px 1px 3px 1px rgba(60, 64, 67, 0.15);\n",
              "      fill: #174EA6;\n",
              "    }\n",
              "\n",
              "    .colab-df-buttons div {\n",
              "      margin-bottom: 4px;\n",
              "    }\n",
              "\n",
              "    [theme=dark] .colab-df-convert {\n",
              "      background-color: #3B4455;\n",
              "      fill: #D2E3FC;\n",
              "    }\n",
              "\n",
              "    [theme=dark] .colab-df-convert:hover {\n",
              "      background-color: #434B5C;\n",
              "      box-shadow: 0px 1px 3px 1px rgba(0, 0, 0, 0.15);\n",
              "      filter: drop-shadow(0px 1px 2px rgba(0, 0, 0, 0.3));\n",
              "      fill: #FFFFFF;\n",
              "    }\n",
              "  </style>\n",
              "\n",
              "    <script>\n",
              "      const buttonEl =\n",
              "        document.querySelector('#df-a56a2319-33f8-495f-abda-479a8092ffab button.colab-df-convert');\n",
              "      buttonEl.style.display =\n",
              "        google.colab.kernel.accessAllowed ? 'block' : 'none';\n",
              "\n",
              "      async function convertToInteractive(key) {\n",
              "        const element = document.querySelector('#df-a56a2319-33f8-495f-abda-479a8092ffab');\n",
              "        const dataTable =\n",
              "          await google.colab.kernel.invokeFunction('convertToInteractive',\n",
              "                                                    [key], {});\n",
              "        if (!dataTable) return;\n",
              "\n",
              "        const docLinkHtml = 'Like what you see? Visit the ' +\n",
              "          '<a target=\"_blank\" href=https://colab.research.google.com/notebooks/data_table.ipynb>data table notebook</a>'\n",
              "          + ' to learn more about interactive tables.';\n",
              "        element.innerHTML = '';\n",
              "        dataTable['output_type'] = 'display_data';\n",
              "        await google.colab.output.renderOutput(dataTable, element);\n",
              "        const docLink = document.createElement('div');\n",
              "        docLink.innerHTML = docLinkHtml;\n",
              "        element.appendChild(docLink);\n",
              "      }\n",
              "    </script>\n",
              "  </div>\n",
              "\n",
              "\n",
              "<div id=\"df-3826d57f-3632-4b92-a48f-a763d431a17c\">\n",
              "  <button class=\"colab-df-quickchart\" onclick=\"quickchart('df-3826d57f-3632-4b92-a48f-a763d431a17c')\"\n",
              "            title=\"Suggest charts\"\n",
              "            style=\"display:none;\">\n",
              "\n",
              "<svg xmlns=\"http://www.w3.org/2000/svg\" height=\"24px\"viewBox=\"0 0 24 24\"\n",
              "     width=\"24px\">\n",
              "    <g>\n",
              "        <path d=\"M19 3H5c-1.1 0-2 .9-2 2v14c0 1.1.9 2 2 2h14c1.1 0 2-.9 2-2V5c0-1.1-.9-2-2-2zM9 17H7v-7h2v7zm4 0h-2V7h2v10zm4 0h-2v-4h2v4z\"/>\n",
              "    </g>\n",
              "</svg>\n",
              "  </button>\n",
              "\n",
              "<style>\n",
              "  .colab-df-quickchart {\n",
              "      --bg-color: #E8F0FE;\n",
              "      --fill-color: #1967D2;\n",
              "      --hover-bg-color: #E2EBFA;\n",
              "      --hover-fill-color: #174EA6;\n",
              "      --disabled-fill-color: #AAA;\n",
              "      --disabled-bg-color: #DDD;\n",
              "  }\n",
              "\n",
              "  [theme=dark] .colab-df-quickchart {\n",
              "      --bg-color: #3B4455;\n",
              "      --fill-color: #D2E3FC;\n",
              "      --hover-bg-color: #434B5C;\n",
              "      --hover-fill-color: #FFFFFF;\n",
              "      --disabled-bg-color: #3B4455;\n",
              "      --disabled-fill-color: #666;\n",
              "  }\n",
              "\n",
              "  .colab-df-quickchart {\n",
              "    background-color: var(--bg-color);\n",
              "    border: none;\n",
              "    border-radius: 50%;\n",
              "    cursor: pointer;\n",
              "    display: none;\n",
              "    fill: var(--fill-color);\n",
              "    height: 32px;\n",
              "    padding: 0;\n",
              "    width: 32px;\n",
              "  }\n",
              "\n",
              "  .colab-df-quickchart:hover {\n",
              "    background-color: var(--hover-bg-color);\n",
              "    box-shadow: 0 1px 2px rgba(60, 64, 67, 0.3), 0 1px 3px 1px rgba(60, 64, 67, 0.15);\n",
              "    fill: var(--button-hover-fill-color);\n",
              "  }\n",
              "\n",
              "  .colab-df-quickchart-complete:disabled,\n",
              "  .colab-df-quickchart-complete:disabled:hover {\n",
              "    background-color: var(--disabled-bg-color);\n",
              "    fill: var(--disabled-fill-color);\n",
              "    box-shadow: none;\n",
              "  }\n",
              "\n",
              "  .colab-df-spinner {\n",
              "    border: 2px solid var(--fill-color);\n",
              "    border-color: transparent;\n",
              "    border-bottom-color: var(--fill-color);\n",
              "    animation:\n",
              "      spin 1s steps(1) infinite;\n",
              "  }\n",
              "\n",
              "  @keyframes spin {\n",
              "    0% {\n",
              "      border-color: transparent;\n",
              "      border-bottom-color: var(--fill-color);\n",
              "      border-left-color: var(--fill-color);\n",
              "    }\n",
              "    20% {\n",
              "      border-color: transparent;\n",
              "      border-left-color: var(--fill-color);\n",
              "      border-top-color: var(--fill-color);\n",
              "    }\n",
              "    30% {\n",
              "      border-color: transparent;\n",
              "      border-left-color: var(--fill-color);\n",
              "      border-top-color: var(--fill-color);\n",
              "      border-right-color: var(--fill-color);\n",
              "    }\n",
              "    40% {\n",
              "      border-color: transparent;\n",
              "      border-right-color: var(--fill-color);\n",
              "      border-top-color: var(--fill-color);\n",
              "    }\n",
              "    60% {\n",
              "      border-color: transparent;\n",
              "      border-right-color: var(--fill-color);\n",
              "    }\n",
              "    80% {\n",
              "      border-color: transparent;\n",
              "      border-right-color: var(--fill-color);\n",
              "      border-bottom-color: var(--fill-color);\n",
              "    }\n",
              "    90% {\n",
              "      border-color: transparent;\n",
              "      border-bottom-color: var(--fill-color);\n",
              "    }\n",
              "  }\n",
              "</style>\n",
              "\n",
              "  <script>\n",
              "    async function quickchart(key) {\n",
              "      const quickchartButtonEl =\n",
              "        document.querySelector('#' + key + ' button');\n",
              "      quickchartButtonEl.disabled = true;  // To prevent multiple clicks.\n",
              "      quickchartButtonEl.classList.add('colab-df-spinner');\n",
              "      try {\n",
              "        const charts = await google.colab.kernel.invokeFunction(\n",
              "            'suggestCharts', [key], {});\n",
              "      } catch (error) {\n",
              "        console.error('Error during call to suggestCharts:', error);\n",
              "      }\n",
              "      quickchartButtonEl.classList.remove('colab-df-spinner');\n",
              "      quickchartButtonEl.classList.add('colab-df-quickchart-complete');\n",
              "    }\n",
              "    (() => {\n",
              "      let quickchartButtonEl =\n",
              "        document.querySelector('#df-3826d57f-3632-4b92-a48f-a763d431a17c button');\n",
              "      quickchartButtonEl.style.display =\n",
              "        google.colab.kernel.accessAllowed ? 'block' : 'none';\n",
              "    })();\n",
              "  </script>\n",
              "</div>\n",
              "\n",
              "    </div>\n",
              "  </div>\n"
            ],
            "application/vnd.google.colaboratory.intrinsic+json": {
              "type": "dataframe",
              "variable_name": "df"
            }
          },
          "metadata": {},
          "execution_count": 4
        }
      ]
    },
    {
      "cell_type": "code",
      "source": [],
      "metadata": {
        "id": "z6KJNvfGM3Um"
      },
      "execution_count": null,
      "outputs": []
    },
    {
      "cell_type": "markdown",
      "source": [
        "# property_type vs price"
      ],
      "metadata": {
        "id": "85FBout-M-BG"
      }
    },
    {
      "cell_type": "code",
      "source": [
        "sns.barplot(x=df['property_type'], y= df['price'], estimator=np.median, color='red')\n",
        "print('in this grapgh it shows that the avargae price of plat is on an on avarge 1.5 crores and houses 4crores ')"
      ],
      "metadata": {
        "colab": {
          "base_uri": "https://localhost:8080/",
          "height": 486
        },
        "id": "PFQUdj1vNDKG",
        "outputId": "946b125b-7f04-4394-f3fd-594494f6d1c4"
      },
      "execution_count": 10,
      "outputs": [
        {
          "output_type": "stream",
          "name": "stdout",
          "text": [
            "in this grapgh it shows that the avargae price of plat is on an on avarge 1.5 crores and houses 4crores \n"
          ]
        },
        {
          "output_type": "display_data",
          "data": {
            "text/plain": [
              "<Figure size 640x480 with 1 Axes>"
            ],
            "image/png": "[encoded data removed]"
          },
          "metadata": {}
        }
      ]
    },
    {
      "cell_type": "code",
      "source": [
        "sns.boxplot(x=df['property_type'], y= df['price'] )"
      ],
      "metadata": {
        "colab": {
          "base_uri": "https://localhost:8080/",
          "height": 466
        },
        "id": "FJeSAMMYNZQ6",
        "outputId": "549de13b-80bb-4517-c928-93ad0f049301"
      },
      "execution_count": 13,
      "outputs": [
        {
          "output_type": "execute_result",
          "data": {
            "text/plain": [
              "<Axes: xlabel='property_type', ylabel='price'>"
            ]
          },
          "metadata": {},
          "execution_count": 13
        },
        {
          "output_type": "display_data",
          "data": {
            "text/plain": [
              "<Figure size 640x480 with 1 Axes>"
            ],
            "image/png": "[encoded data removed]"
          },
          "metadata": {}
        }
      ]
    },
    {
      "cell_type": "code",
      "source": [],
      "metadata": {
        "id": "qP5XBeygOJiR"
      },
      "execution_count": null,
      "outputs": []
    },
    {
      "cell_type": "markdown",
      "source": [
        "# property type vs area"
      ],
      "metadata": {
        "id": "IZCDmLA5OT6y"
      }
    },
    {
      "cell_type": "code",
      "source": [
        "sns.barplot(x=df['property_type'], y= df['built_up_area'], estimator=np.median )"
      ],
      "metadata": {
        "colab": {
          "base_uri": "https://localhost:8080/",
          "height": 466
        },
        "id": "NsQs1t5dOWGP",
        "outputId": "123a74e3-3a95-4c70-e9da-a1a814535c17"
      },
      "execution_count": 16,
      "outputs": [
        {
          "output_type": "execute_result",
          "data": {
            "text/plain": [
              "<Axes: xlabel='property_type', ylabel='built_up_area'>"
            ]
          },
          "metadata": {},
          "execution_count": 16
        },
        {
          "output_type": "display_data",
          "data": {
            "text/plain": [
              "<Figure size 640x480 with 1 Axes>"
            ],
            "image/png": "[encoded data removed]"
          },
          "metadata": {}
        }
      ]
    },
    {
      "cell_type": "code",
      "source": [
        "sns.boxplot(x=df['property_type'],y= df['built_up_area'] )"
      ],
      "metadata": {
        "colab": {
          "base_uri": "https://localhost:8080/",
          "height": 466
        },
        "id": "aXmPS570OYxf",
        "outputId": "8906ac50-4b94-4eeb-c4fa-a29a28c07837"
      },
      "execution_count": 17,
      "outputs": [
        {
          "output_type": "execute_result",
          "data": {
            "text/plain": [
              "<Axes: xlabel='property_type', ylabel='built_up_area'>"
            ]
          },
          "metadata": {},
          "execution_count": 17
        },
        {
          "output_type": "display_data",
          "data": {
            "text/plain": [
              "<Figure size 640x480 with 1 Axes>"
            ],
            "image/png": "[encoded data removed]"
          },
          "metadata": {}
        }
      ]
    },
    {
      "cell_type": "code",
      "source": [
        "# remove on crazy outlier\n",
        "df = df[df['built_up_area'] != 737147]"
      ],
      "metadata": {
        "id": "P6iHUPjPOwUK"
      },
      "execution_count": 18,
      "outputs": []
    },
    {
      "cell_type": "code",
      "source": [
        "sns.boxplot(x=df['property_type'],y= df['built_up_area'] )"
      ],
      "metadata": {
        "colab": {
          "base_uri": "https://localhost:8080/",
          "height": 468
        },
        "id": "fv_To3bTPExF",
        "outputId": "f0b2f81a-3ee0-4752-f03a-59f3f5a7f7a4"
      },
      "execution_count": 19,
      "outputs": [
        {
          "output_type": "execute_result",
          "data": {
            "text/plain": [
              "<Axes: xlabel='property_type', ylabel='built_up_area'>"
            ]
          },
          "metadata": {},
          "execution_count": 19
        },
        {
          "output_type": "display_data",
          "data": {
            "text/plain": [
              "<Figure size 640x480 with 1 Axes>"
            ],
            "image/png": "[encoded data removed]"
          },
          "metadata": {}
        }
      ]
    },
    {
      "cell_type": "code",
      "source": [
        "# property_type vs price_per_sqft"
      ],
      "metadata": {
        "id": "0HaMAZKwPHqM"
      },
      "execution_count": 20,
      "outputs": []
    },
    {
      "cell_type": "code",
      "source": [
        "sns.barplot(x=df['property_type'],y=df['price_per_sqft'],estimator=np.median)"
      ],
      "metadata": {
        "colab": {
          "base_uri": "https://localhost:8080/",
          "height": 466
        },
        "id": "R8MXRIsJPRm5",
        "outputId": "4b1134db-ae70-4672-d01a-c718ed773fa1"
      },
      "execution_count": 21,
      "outputs": [
        {
          "output_type": "execute_result",
          "data": {
            "text/plain": [
              "<Axes: xlabel='property_type', ylabel='price_per_sqft'>"
            ]
          },
          "metadata": {},
          "execution_count": 21
        },
        {
          "output_type": "display_data",
          "data": {
            "text/plain": [
              "<Figure size 640x480 with 1 Axes>"
            ],
            "image/png": "[encoded data removed]"
          },
          "metadata": {}
        }
      ]
    },
    {
      "cell_type": "code",
      "source": [
        "sns.boxplot(x=df['property_type'],y=df['price_per_sqft'])"
      ],
      "metadata": {
        "colab": {
          "base_uri": "https://localhost:8080/",
          "height": 466
        },
        "id": "SlCbLbVhPeH5",
        "outputId": "79746ed9-d5ec-4d88-ac47-29e206b5a318"
      },
      "execution_count": 22,
      "outputs": [
        {
          "output_type": "execute_result",
          "data": {
            "text/plain": [
              "<Axes: xlabel='property_type', ylabel='price_per_sqft'>"
            ]
          },
          "metadata": {},
          "execution_count": 22
        },
        {
          "output_type": "display_data",
          "data": {
            "text/plain": [
              "<Figure size 640x480 with 1 Axes>"
            ],
            "image/png": "[encoded data removed]"
          },
          "metadata": {}
        }
      ]
    },
    {
      "cell_type": "code",
      "source": [],
      "metadata": {
        "id": "IFoNym2QPjli"
      },
      "execution_count": null,
      "outputs": []
    },
    {
      "cell_type": "markdown",
      "source": [
        "# heatmap between property_type vs bedrooms"
      ],
      "metadata": {
        "id": "o4sgX9qLP5tF"
      }
    },
    {
      "cell_type": "code",
      "source": [
        "sns.heatmap(pd.crosstab(df['property_type'],df['bedRoom']))"
      ],
      "metadata": {
        "colab": {
          "base_uri": "https://localhost:8080/",
          "height": 468
        },
        "id": "flQzRC7iQBRm",
        "outputId": "719a4b26-5b89-4ab7-8bae-956648e3e40d"
      },
      "execution_count": 26,
      "outputs": [
        {
          "output_type": "execute_result",
          "data": {
            "text/plain": [
              "<Axes: xlabel='bedRoom', ylabel='property_type'>"
            ]
          },
          "metadata": {},
          "execution_count": 26
        },
        {
          "output_type": "display_data",
          "data": {
            "text/plain": [
              "<Figure size 640x480 with 2 Axes>"
            ],
            "image/png": "[encoded data removed]"
          },
          "metadata": {}
        }
      ]
    },
    {
      "cell_type": "code",
      "source": [
        "# checking outlier\n",
        "df[df['bedRoom'] >= 10]"
      ],
      "metadata": {
        "colab": {
          "base_uri": "https://localhost:8080/",
          "height": 842
        },
        "id": "zoz50FYpQDZg",
        "outputId": "878e4993-3fb1-4317-83bb-729a4df20af5"
      },
      "execution_count": 27,
      "outputs": [
        {
          "output_type": "execute_result",
          "data": {
            "text/plain": [
              "     property_type                    society     sector  price  \\\n",
              "19           house                independent  sector 54   5.50   \n",
              "48           house  ganpati heights apartment  sector 13   1.25   \n",
              "66           house                independent  sector 13   0.50   \n",
              "78           house                independent  sector 17   3.87   \n",
              "119          house                independent  sector 55   7.49   \n",
              "...            ...                        ...        ...    ...   \n",
              "3479         house                independent  sector 25    NaN   \n",
              "3519         house        huda plot sector 38  sector 38   4.30   \n",
              "3618         house                independent  sector 54   5.00   \n",
              "3698         house                independent  sector 55   9.19   \n",
              "3713         house                independent  sector 41   4.25   \n",
              "\n",
              "      price_per_sqft     area  \\\n",
              "19           38194.0   1440.0   \n",
              "48             151.0  82781.0   \n",
              "66           90909.0     55.0   \n",
              "78            5160.0   7500.0   \n",
              "119          27741.0   2700.0   \n",
              "...              ...      ...   \n",
              "3479             NaN      NaN   \n",
              "3519        245398.0    175.0   \n",
              "3618         43066.0   1161.0   \n",
              "3698         34037.0   2700.0   \n",
              "3713         26235.0   1620.0   \n",
              "\n",
              "                                           areaWithType  bedRoom  bathroom  \\\n",
              "19                          Plot area 160(133.78 sq.m.)       18        18   \n",
              "48                         Plot area 115(7692.86 sq.m.)       10         6   \n",
              "66                             Plot area 55(5.11 sq.m.)       12         4   \n",
              "78    Plot area 1623(150.78 sq.m.)Built Up area: 750...       19        17   \n",
              "119                         Plot area 300(250.84 sq.m.)       12        12   \n",
              "...                                                 ...      ...       ...   \n",
              "3479  Plot area 250(209.03 sq.m.)Built Up area: 260 ...       12        12   \n",
              "3519  Plot area 163(15.14 sq.m.)Built Up area: 145 s...       13        13   \n",
              "3618                        Plot area 129(107.86 sq.m.)       21        21   \n",
              "3698                        Plot area 300(250.84 sq.m.)       16        18   \n",
              "3713                         Plot area 180(150.5 sq.m.)       10         9   \n",
              "\n",
              "     balcony  floorNum      facing   agePossession  super_built_up_area  \\\n",
              "19        3+       4.0  South-West  Relatively New                  NaN   \n",
              "48         2       3.0  South-East    Old Property                  NaN   \n",
              "66         3       4.0         NaN    Old Property                  NaN   \n",
              "78        3+       5.0  North-West  Relatively New                  NaN   \n",
              "119       3+       4.0  South-East  Relatively New                  NaN   \n",
              "...      ...       ...         ...             ...                  ...   \n",
              "3479      3+       4.0  North-East    New Property                  NaN   \n",
              "3519      3+       5.0  North-West  Relatively New                  NaN   \n",
              "3618      3+       5.0       North  Relatively New                  NaN   \n",
              "3698       2       4.0        West    New Property                  NaN   \n",
              "3713      3+       4.0       North  Moderately Old                  NaN   \n",
              "\n",
              "      built_up_area  carpet_area  study room  servant room  store room  \\\n",
              "19           1440.0          NaN           0             1           0   \n",
              "48            115.0          NaN           0             0           0   \n",
              "66             55.0          NaN           0             0           0   \n",
              "78           7500.0          NaN           1             0           1   \n",
              "119          2700.0          NaN           1             1           0   \n",
              "...             ...          ...         ...           ...         ...   \n",
              "3479          260.0        245.0           1             1           0   \n",
              "3519          145.0          NaN           0             0           0   \n",
              "3618         1161.0          NaN           0             1           0   \n",
              "3698         2700.0          NaN           0             1           0   \n",
              "3713         1620.0          NaN           1             1           0   \n",
              "\n",
              "      pooja room  others  furnishing_type  luxury_score  \n",
              "19             0       0                2            70  \n",
              "48             0       1                0             7  \n",
              "66             0       0                0            15  \n",
              "78             0       0                0            68  \n",
              "119            1       0                1            49  \n",
              "...          ...     ...              ...           ...  \n",
              "3479           1       1                2           144  \n",
              "3519           0       0                2             7  \n",
              "3618           0       0                2            49  \n",
              "3698           1       0                1            49  \n",
              "3713           0       0                1            36  \n",
              "\n",
              "[72 rows x 23 columns]"
            ],
            "text/html": [
              "\n",
              "  <div id=\"df-de2febb4-a0a9-4a4d-9842-6868ff5730ce\" class=\"colab-df-container\">\n",
              "    <div>\n",
              "<style scoped>\n",
              "    .dataframe tbody tr th:only-of-type {\n",
              "        vertical-align: middle;\n",
              "    }\n",
              "\n",
              "    .dataframe tbody tr th {\n",
              "        vertical-align: top;\n",
              "    }\n",
              "\n",
              "    .dataframe thead th {\n",
              "        text-align: right;\n",
              "    }\n",
              "</style>\n",
              "<table border=\"1\" class=\"dataframe\">\n",
              "  <thead>\n",
              "    <tr style=\"text-align: right;\">\n",
              "      <th></th>\n",
              "      <th>property_type</th>\n",
              "      <th>society</th>\n",
              "      <th>sector</th>\n",
              "      <th>price</th>\n",
              "      <th>price_per_sqft</th>\n",
              "      <th>area</th>\n",
              "      <th>areaWithType</th>\n",
              "      <th>bedRoom</th>\n",
              "      <th>bathroom</th>\n",
              "      <th>balcony</th>\n",
              "      <th>floorNum</th>\n",
              "      <th>facing</th>\n",
              "      <th>agePossession</th>\n",
              "      <th>super_built_up_area</th>\n",
              "      <th>built_up_area</th>\n",
              "      <th>carpet_area</th>\n",
              "      <th>study room</th>\n",
              "      <th>servant room</th>\n",
              "      <th>store room</th>\n",
              "      <th>pooja room</th>\n",
              "      <th>others</th>\n",
              "      <th>furnishing_type</th>\n",
              "      <th>luxury_score</th>\n",
              "    </tr>\n",
              "  </thead>\n",
              "  <tbody>\n",
              "    <tr>\n",
              "      <th>19</th>\n",
              "      <td>house</td>\n",
              "      <td>independent</td>\n",
              "      <td>sector 54</td>\n",
              "      <td>5.50</td>\n",
              "      <td>38194.0</td>\n",
              "      <td>1440.0</td>\n",
              "      <td>Plot area 160(133.78 sq.m.)</td>\n",
              "      <td>18</td>\n",
              "      <td>18</td>\n",
              "      <td>3+</td>\n",
              "      <td>4.0</td>\n",
              "      <td>South-West</td>\n",
              "      <td>Relatively New</td>\n",
              "      <td>NaN</td>\n",
              "      <td>1440.0</td>\n",
              "      <td>NaN</td>\n",
              "      <td>0</td>\n",
              "      <td>1</td>\n",
              "      <td>0</td>\n",
              "      <td>0</td>\n",
              "      <td>0</td>\n",
              "      <td>2</td>\n",
              "      <td>70</td>\n",
              "    </tr>\n",
              "    <tr>\n",
              "      <th>48</th>\n",
              "      <td>house</td>\n",
              "      <td>ganpati heights apartment</td>\n",
              "      <td>sector 13</td>\n",
              "      <td>1.25</td>\n",
              "      <td>151.0</td>\n",
              "      <td>82781.0</td>\n",
              "      <td>Plot area 115(7692.86 sq.m.)</td>\n",
              "      <td>10</td>\n",
              "      <td>6</td>\n",
              "      <td>2</td>\n",
              "      <td>3.0</td>\n",
              "      <td>South-East</td>\n",
              "      <td>Old Property</td>\n",
              "      <td>NaN</td>\n",
              "      <td>115.0</td>\n",
              "      <td>NaN</td>\n",
              "      <td>0</td>\n",
              "      <td>0</td>\n",
              "      <td>0</td>\n",
              "      <td>0</td>\n",
              "      <td>1</td>\n",
              "      <td>0</td>\n",
              "      <td>7</td>\n",
              "    </tr>\n",
              "    <tr>\n",
              "      <th>66</th>\n",
              "      <td>house</td>\n",
              "      <td>independent</td>\n",
              "      <td>sector 13</td>\n",
              "      <td>0.50</td>\n",
              "      <td>90909.0</td>\n",
              "      <td>55.0</td>\n",
              "      <td>Plot area 55(5.11 sq.m.)</td>\n",
              "      <td>12</td>\n",
              "      <td>4</td>\n",
              "      <td>3</td>\n",
              "      <td>4.0</td>\n",
              "      <td>NaN</td>\n",
              "      <td>Old Property</td>\n",
              "      <td>NaN</td>\n",
              "      <td>55.0</td>\n",
              "      <td>NaN</td>\n",
              "      <td>0</td>\n",
              "      <td>0</td>\n",
              "      <td>0</td>\n",
              "      <td>0</td>\n",
              "      <td>0</td>\n",
              "      <td>0</td>\n",
              "      <td>15</td>\n",
              "    </tr>\n",
              "    <tr>\n",
              "      <th>78</th>\n",
              "      <td>house</td>\n",
              "      <td>independent</td>\n",
              "      <td>sector 17</td>\n",
              "      <td>3.87</td>\n",
              "      <td>5160.0</td>\n",
              "      <td>7500.0</td>\n",
              "      <td>Plot area 1623(150.78 sq.m.)Built Up area: 750...</td>\n",
              "      <td>19</td>\n",
              "      <td>17</td>\n",
              "      <td>3+</td>\n",
              "      <td>5.0</td>\n",
              "      <td>North-West</td>\n",
              "      <td>Relatively New</td>\n",
              "      <td>NaN</td>\n",
              "      <td>7500.0</td>\n",
              "      <td>NaN</td>\n",
              "      <td>1</td>\n",
              "      <td>0</td>\n",
              "      <td>1</td>\n",
              "      <td>0</td>\n",
              "      <td>0</td>\n",
              "      <td>0</td>\n",
              "      <td>68</td>\n",
              "    </tr>\n",
              "    <tr>\n",
              "      <th>119</th>\n",
              "      <td>house</td>\n",
              "      <td>independent</td>\n",
              "      <td>sector 55</td>\n",
              "      <td>7.49</td>\n",
              "      <td>27741.0</td>\n",
              "      <td>2700.0</td>\n",
              "      <td>Plot area 300(250.84 sq.m.)</td>\n",
              "      <td>12</td>\n",
              "      <td>12</td>\n",
              "      <td>3+</td>\n",
              "      <td>4.0</td>\n",
              "      <td>South-East</td>\n",
              "      <td>Relatively New</td>\n",
              "      <td>NaN</td>\n",
              "      <td>2700.0</td>\n",
              "      <td>NaN</td>\n",
              "      <td>1</td>\n",
              "      <td>1</td>\n",
              "      <td>0</td>\n",
              "      <td>1</td>\n",
              "      <td>0</td>\n",
              "      <td>1</td>\n",
              "      <td>49</td>\n",
              "    </tr>\n",
              "    <tr>\n",
              "      <th>...</th>\n",
              "      <td>...</td>\n",
              "      <td>...</td>\n",
              "      <td>...</td>\n",
              "      <td>...</td>\n",
              "      <td>...</td>\n",
              "      <td>...</td>\n",
              "      <td>...</td>\n",
              "      <td>...</td>\n",
              "      <td>...</td>\n",
              "      <td>...</td>\n",
              "      <td>...</td>\n",
              "      <td>...</td>\n",
              "      <td>...</td>\n",
              "      <td>...</td>\n",
              "      <td>...</td>\n",
              "      <td>...</td>\n",
              "      <td>...</td>\n",
              "      <td>...</td>\n",
              "      <td>...</td>\n",
              "      <td>...</td>\n",
              "      <td>...</td>\n",
              "      <td>...</td>\n",
              "      <td>...</td>\n",
              "    </tr>\n",
              "    <tr>\n",
              "      <th>3479</th>\n",
              "      <td>house</td>\n",
              "      <td>independent</td>\n",
              "      <td>sector 25</td>\n",
              "      <td>NaN</td>\n",
              "      <td>NaN</td>\n",
              "      <td>NaN</td>\n",
              "      <td>Plot area 250(209.03 sq.m.)Built Up area: 260 ...</td>\n",
              "      <td>12</td>\n",
              "      <td>12</td>\n",
              "      <td>3+</td>\n",
              "      <td>4.0</td>\n",
              "      <td>North-East</td>\n",
              "      <td>New Property</td>\n",
              "      <td>NaN</td>\n",
              "      <td>260.0</td>\n",
              "      <td>245.0</td>\n",
              "      <td>1</td>\n",
              "      <td>1</td>\n",
              "      <td>0</td>\n",
              "      <td>1</td>\n",
              "      <td>1</td>\n",
              "      <td>2</td>\n",
              "      <td>144</td>\n",
              "    </tr>\n",
              "    <tr>\n",
              "      <th>3519</th>\n",
              "      <td>house</td>\n",
              "      <td>huda plot sector 38</td>\n",
              "      <td>sector 38</td>\n",
              "      <td>4.30</td>\n",
              "      <td>245398.0</td>\n",
              "      <td>175.0</td>\n",
              "      <td>Plot area 163(15.14 sq.m.)Built Up area: 145 s...</td>\n",
              "      <td>13</td>\n",
              "      <td>13</td>\n",
              "      <td>3+</td>\n",
              "      <td>5.0</td>\n",
              "      <td>North-West</td>\n",
              "      <td>Relatively New</td>\n",
              "      <td>NaN</td>\n",
              "      <td>145.0</td>\n",
              "      <td>NaN</td>\n",
              "      <td>0</td>\n",
              "      <td>0</td>\n",
              "      <td>0</td>\n",
              "      <td>0</td>\n",
              "      <td>0</td>\n",
              "      <td>2</td>\n",
              "      <td>7</td>\n",
              "    </tr>\n",
              "    <tr>\n",
              "      <th>3618</th>\n",
              "      <td>house</td>\n",
              "      <td>independent</td>\n",
              "      <td>sector 54</td>\n",
              "      <td>5.00</td>\n",
              "      <td>43066.0</td>\n",
              "      <td>1161.0</td>\n",
              "      <td>Plot area 129(107.86 sq.m.)</td>\n",
              "      <td>21</td>\n",
              "      <td>21</td>\n",
              "      <td>3+</td>\n",
              "      <td>5.0</td>\n",
              "      <td>North</td>\n",
              "      <td>Relatively New</td>\n",
              "      <td>NaN</td>\n",
              "      <td>1161.0</td>\n",
              "      <td>NaN</td>\n",
              "      <td>0</td>\n",
              "      <td>1</td>\n",
              "      <td>0</td>\n",
              "      <td>0</td>\n",
              "      <td>0</td>\n",
              "      <td>2</td>\n",
              "      <td>49</td>\n",
              "    </tr>\n",
              "    <tr>\n",
              "      <th>3698</th>\n",
              "      <td>house</td>\n",
              "      <td>independent</td>\n",
              "      <td>sector 55</td>\n",
              "      <td>9.19</td>\n",
              "      <td>34037.0</td>\n",
              "      <td>2700.0</td>\n",
              "      <td>Plot area 300(250.84 sq.m.)</td>\n",
              "      <td>16</td>\n",
              "      <td>18</td>\n",
              "      <td>2</td>\n",
              "      <td>4.0</td>\n",
              "      <td>West</td>\n",
              "      <td>New Property</td>\n",
              "      <td>NaN</td>\n",
              "      <td>2700.0</td>\n",
              "      <td>NaN</td>\n",
              "      <td>0</td>\n",
              "      <td>1</td>\n",
              "      <td>0</td>\n",
              "      <td>1</td>\n",
              "      <td>0</td>\n",
              "      <td>1</td>\n",
              "      <td>49</td>\n",
              "    </tr>\n",
              "    <tr>\n",
              "      <th>3713</th>\n",
              "      <td>house</td>\n",
              "      <td>independent</td>\n",
              "      <td>sector 41</td>\n",
              "      <td>4.25</td>\n",
              "      <td>26235.0</td>\n",
              "      <td>1620.0</td>\n",
              "      <td>Plot area 180(150.5 sq.m.)</td>\n",
              "      <td>10</td>\n",
              "      <td>9</td>\n",
              "      <td>3+</td>\n",
              "      <td>4.0</td>\n",
              "      <td>North</td>\n",
              "      <td>Moderately Old</td>\n",
              "      <td>NaN</td>\n",
              "      <td>1620.0</td>\n",
              "      <td>NaN</td>\n",
              "      <td>1</td>\n",
              "      <td>1</td>\n",
              "      <td>0</td>\n",
              "      <td>0</td>\n",
              "      <td>0</td>\n",
              "      <td>1</td>\n",
              "      <td>36</td>\n",
              "    </tr>\n",
              "  </tbody>\n",
              "</table>\n",
              "<p>72 rows × 23 columns</p>\n",
              "</div>\n",
              "    <div class=\"colab-df-buttons\">\n",
              "\n",
              "  <div class=\"colab-df-container\">\n",
              "    <button class=\"colab-df-convert\" onclick=\"convertToInteractive('df-de2febb4-a0a9-4a4d-9842-6868ff5730ce')\"\n",
              "            title=\"Convert this dataframe to an interactive table.\"\n",
              "            style=\"display:none;\">\n",
              "\n",
              "  <svg xmlns=\"http://www.w3.org/2000/svg\" height=\"24px\" viewBox=\"0 -960 960 960\">\n",
              "    <path d=\"M120-120v-720h720v720H120Zm60-500h600v-160H180v160Zm220 220h160v-160H400v160Zm0 220h160v-160H400v160ZM180-400h160v-160H180v160Zm440 0h160v-160H620v160ZM180-180h160v-160H180v160Zm440 0h160v-160H620v160Z\"/>\n",
              "  </svg>\n",
              "    </button>\n",
              "\n",
              "  <style>\n",
              "    .colab-df-container {\n",
              "      display:flex;\n",
              "      gap: 12px;\n",
              "    }\n",
              "\n",
              "    .colab-df-convert {\n",
              "      background-color: #E8F0FE;\n",
              "      border: none;\n",
              "      border-radius: 50%;\n",
              "      cursor: pointer;\n",
              "      display: none;\n",
              "      fill: #1967D2;\n",
              "      height: 32px;\n",
              "      padding: 0 0 0 0;\n",
              "      width: 32px;\n",
              "    }\n",
              "\n",
              "    .colab-df-convert:hover {\n",
              "      background-color: #E2EBFA;\n",
              "      box-shadow: 0px 1px 2px rgba(60, 64, 67, 0.3), 0px 1px 3px 1px rgba(60, 64, 67, 0.15);\n",
              "      fill: #174EA6;\n",
              "    }\n",
              "\n",
              "    .colab-df-buttons div {\n",
              "      margin-bottom: 4px;\n",
              "    }\n",
              "\n",
              "    [theme=dark] .colab-df-convert {\n",
              "      background-color: #3B4455;\n",
              "      fill: #D2E3FC;\n",
              "    }\n",
              "\n",
              "    [theme=dark] .colab-df-convert:hover {\n",
              "      background-color: #434B5C;\n",
              "      box-shadow: 0px 1px 3px 1px rgba(0, 0, 0, 0.15);\n",
              "      filter: drop-shadow(0px 1px 2px rgba(0, 0, 0, 0.3));\n",
              "      fill: #FFFFFF;\n",
              "    }\n",
              "  </style>\n",
              "\n",
              "    <script>\n",
              "      const buttonEl =\n",
              "        document.querySelector('#df-de2febb4-a0a9-4a4d-9842-6868ff5730ce button.colab-df-convert');\n",
              "      buttonEl.style.display =\n",
              "        google.colab.kernel.accessAllowed ? 'block' : 'none';\n",
              "\n",
              "      async function convertToInteractive(key) {\n",
              "        const element = document.querySelector('#df-de2febb4-a0a9-4a4d-9842-6868ff5730ce');\n",
              "        const dataTable =\n",
              "          await google.colab.kernel.invokeFunction('convertToInteractive',\n",
              "                                                    [key], {});\n",
              "        if (!dataTable) return;\n",
              "\n",
              "        const docLinkHtml = 'Like what you see? Visit the ' +\n",
              "          '<a target=\"_blank\" href=https://colab.research.google.com/notebooks/data_table.ipynb>data table notebook</a>'\n",
              "          + ' to learn more about interactive tables.';\n",
              "        element.innerHTML = '';\n",
              "        dataTable['output_type'] = 'display_data';\n",
              "        await google.colab.output.renderOutput(dataTable, element);\n",
              "        const docLink = document.createElement('div');\n",
              "        docLink.innerHTML = docLinkHtml;\n",
              "        element.appendChild(docLink);\n",
              "      }\n",
              "    </script>\n",
              "  </div>\n",
              "\n",
              "\n",
              "<div id=\"df-bbc92e62-245c-4a34-8d99-148ce87d51e1\">\n",
              "  <button class=\"colab-df-quickchart\" onclick=\"quickchart('df-bbc92e62-245c-4a34-8d99-148ce87d51e1')\"\n",
              "            title=\"Suggest charts\"\n",
              "            style=\"display:none;\">\n",
              "\n",
              "<svg xmlns=\"http://www.w3.org/2000/svg\" height=\"24px\"viewBox=\"0 0 24 24\"\n",
              "     width=\"24px\">\n",
              "    <g>\n",
              "        <path d=\"M19 3H5c-1.1 0-2 .9-2 2v14c0 1.1.9 2 2 2h14c1.1 0 2-.9 2-2V5c0-1.1-.9-2-2-2zM9 17H7v-7h2v7zm4 0h-2V7h2v10zm4 0h-2v-4h2v4z\"/>\n",
              "    </g>\n",
              "</svg>\n",
              "  </button>\n",
              "\n",
              "<style>\n",
              "  .colab-df-quickchart {\n",
              "      --bg-color: #E8F0FE;\n",
              "      --fill-color: #1967D2;\n",
              "      --hover-bg-color: #E2EBFA;\n",
              "      --hover-fill-color: #174EA6;\n",
              "      --disabled-fill-color: #AAA;\n",
              "      --disabled-bg-color: #DDD;\n",
              "  }\n",
              "\n",
              "  [theme=dark] .colab-df-quickchart {\n",
              "      --bg-color: #3B4455;\n",
              "      --fill-color: #D2E3FC;\n",
              "      --hover-bg-color: #434B5C;\n",
              "      --hover-fill-color: #FFFFFF;\n",
              "      --disabled-bg-color: #3B4455;\n",
              "      --disabled-fill-color: #666;\n",
              "  }\n",
              "\n",
              "  .colab-df-quickchart {\n",
              "    background-color: var(--bg-color);\n",
              "    border: none;\n",
              "    border-radius: 50%;\n",
              "    cursor: pointer;\n",
              "    display: none;\n",
              "    fill: var(--fill-color);\n",
              "    height: 32px;\n",
              "    padding: 0;\n",
              "    width: 32px;\n",
              "  }\n",
              "\n",
              "  .colab-df-quickchart:hover {\n",
              "    background-color: var(--hover-bg-color);\n",
              "    box-shadow: 0 1px 2px rgba(60, 64, 67, 0.3), 0 1px 3px 1px rgba(60, 64, 67, 0.15);\n",
              "    fill: var(--button-hover-fill-color);\n",
              "  }\n",
              "\n",
              "  .colab-df-quickchart-complete:disabled,\n",
              "  .colab-df-quickchart-complete:disabled:hover {\n",
              "    background-color: var(--disabled-bg-color);\n",
              "    fill: var(--disabled-fill-color);\n",
              "    box-shadow: none;\n",
              "  }\n",
              "\n",
              "  .colab-df-spinner {\n",
              "    border: 2px solid var(--fill-color);\n",
              "    border-color: transparent;\n",
              "    border-bottom-color: var(--fill-color);\n",
              "    animation:\n",
              "      spin 1s steps(1) infinite;\n",
              "  }\n",
              "\n",
              "  @keyframes spin {\n",
              "    0% {\n",
              "      border-color: transparent;\n",
              "      border-bottom-color: var(--fill-color);\n",
              "      border-left-color: var(--fill-color);\n",
              "    }\n",
              "    20% {\n",
              "      border-color: transparent;\n",
              "      border-left-color: var(--fill-color);\n",
              "      border-top-color: var(--fill-color);\n",
              "    }\n",
              "    30% {\n",
              "      border-color: transparent;\n",
              "      border-left-color: var(--fill-color);\n",
              "      border-top-color: var(--fill-color);\n",
              "      border-right-color: var(--fill-color);\n",
              "    }\n",
              "    40% {\n",
              "      border-color: transparent;\n",
              "      border-right-color: var(--fill-color);\n",
              "      border-top-color: var(--fill-color);\n",
              "    }\n",
              "    60% {\n",
              "      border-color: transparent;\n",
              "      border-right-color: var(--fill-color);\n",
              "    }\n",
              "    80% {\n",
              "      border-color: transparent;\n",
              "      border-right-color: var(--fill-color);\n",
              "      border-bottom-color: var(--fill-color);\n",
              "    }\n",
              "    90% {\n",
              "      border-color: transparent;\n",
              "      border-bottom-color: var(--fill-color);\n",
              "    }\n",
              "  }\n",
              "</style>\n",
              "\n",
              "  <script>\n",
              "    async function quickchart(key) {\n",
              "      const quickchartButtonEl =\n",
              "        document.querySelector('#' + key + ' button');\n",
              "      quickchartButtonEl.disabled = true;  // To prevent multiple clicks.\n",
              "      quickchartButtonEl.classList.add('colab-df-spinner');\n",
              "      try {\n",
              "        const charts = await google.colab.kernel.invokeFunction(\n",
              "            'suggestCharts', [key], {});\n",
              "      } catch (error) {\n",
              "        console.error('Error during call to suggestCharts:', error);\n",
              "      }\n",
              "      quickchartButtonEl.classList.remove('colab-df-spinner');\n",
              "      quickchartButtonEl.classList.add('colab-df-quickchart-complete');\n",
              "    }\n",
              "    (() => {\n",
              "      let quickchartButtonEl =\n",
              "        document.querySelector('#df-bbc92e62-245c-4a34-8d99-148ce87d51e1 button');\n",
              "      quickchartButtonEl.style.display =\n",
              "        google.colab.kernel.accessAllowed ? 'block' : 'none';\n",
              "    })();\n",
              "  </script>\n",
              "</div>\n",
              "\n",
              "    </div>\n",
              "  </div>\n"
            ],
            "application/vnd.google.colaboratory.intrinsic+json": {
              "type": "dataframe"
            }
          },
          "metadata": {},
          "execution_count": 27
        }
      ]
    },
    {
      "cell_type": "code",
      "source": [
        "sns.barplot(x=df['property_type'],y=df['floorNum'],estimator=np.median)"
      ],
      "metadata": {
        "colab": {
          "base_uri": "https://localhost:8080/",
          "height": 466
        },
        "id": "GYnPDzQvQS4f",
        "outputId": "273d050d-43e7-4b89-a73c-89894b099c04"
      },
      "execution_count": 29,
      "outputs": [
        {
          "output_type": "execute_result",
          "data": {
            "text/plain": [
              "<Axes: xlabel='property_type', ylabel='floorNum'>"
            ]
          },
          "metadata": {},
          "execution_count": 29
        },
        {
          "output_type": "display_data",
          "data": {
            "text/plain": [
              "<Figure size 640x480 with 1 Axes>"
            ],
            "image/png": "[encoded data removed]"
          },
          "metadata": {}
        }
      ]
    },
    {
      "cell_type": "code",
      "source": [
        "sns.boxplot(x=df['property_type'],y=df['floorNum'])"
      ],
      "metadata": {
        "colab": {
          "base_uri": "https://localhost:8080/",
          "height": 466
        },
        "id": "MSi-rCB_QnF4",
        "outputId": "1b91b15c-e411-4dc7-8c91-3281ba6c3a81"
      },
      "execution_count": 30,
      "outputs": [
        {
          "output_type": "execute_result",
          "data": {
            "text/plain": [
              "<Axes: xlabel='property_type', ylabel='floorNum'>"
            ]
          },
          "metadata": {},
          "execution_count": 30
        },
        {
          "output_type": "display_data",
          "data": {
            "text/plain": [
              "<Figure size 640x480 with 1 Axes>"
            ],
            "image/png": "[encoded data removed]"
          },
          "metadata": {}
        }
      ]
    },
    {
      "cell_type": "code",
      "source": [
        "sns.heatmap(pd.pivot_table(df,index='property_type',columns='agePossession', values='price',aggfunc='mean'),annot=True)"
      ],
      "metadata": {
        "colab": {
          "base_uri": "https://localhost:8080/",
          "height": 587
        },
        "id": "0I5SIcA-UwHN",
        "outputId": "575b2f4a-d70c-4c18-f69a-9f25f0ffc502"
      },
      "execution_count": 35,
      "outputs": [
        {
          "output_type": "execute_result",
          "data": {
            "text/plain": [
              "<Axes: xlabel='agePossession', ylabel='property_type'>"
            ]
          },
          "metadata": {},
          "execution_count": 35
        },
        {
          "output_type": "display_data",
          "data": {
            "text/plain": [
              "<Figure size 640x480 with 2 Axes>"
            ],
            "image/png": "[encoded data removed]"
          },
          "metadata": {}
        }
      ]
    },
    {
      "cell_type": "code",
      "source": [],
      "metadata": {
        "id": "n_LdAwGWVP2b"
      },
      "execution_count": null,
      "outputs": []
    }
  ]
}